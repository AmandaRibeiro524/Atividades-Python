{
  "nbformat": 4,
  "nbformat_minor": 0,
  "metadata": {
    "colab": {
      "name": "fatec-media.ipynb",
      "provenance": [],
      "collapsed_sections": [],
      "authorship_tag": "ABX9TyMtTvcEnHY64TDXp44atw0J",
      "include_colab_link": true
    },
    "kernelspec": {
      "name": "python3",
      "display_name": "Python 3"
    },
    "language_info": {
      "name": "python"
    }
  },
  "cells": [
    {
      "cell_type": "markdown",
      "metadata": {
        "id": "view-in-github",
        "colab_type": "text"
      },
      "source": [
        "<a href=\"https://colab.research.google.com/github/AmandaRibeiro524/Atividades-Python/blob/main/fatec_media.ipynb\" target=\"_parent\"><img src=\"https://colab.research.google.com/assets/colab-badge.svg\" alt=\"Open In Colab\"/></a>"
      ]
    },
    {
      "cell_type": "code",
      "execution_count": null,
      "metadata": {
        "colab": {
          "base_uri": "https://localhost:8080/"
        },
        "id": "byDvMloNrrAu",
        "outputId": "ce6c98f4-3caa-4683-adb4-15a8ea2311ce"
      },
      "outputs": [
        {
          "output_type": "stream",
          "name": "stdout",
          "text": [
            "Média do aluno\n",
            "Insira a nota da A1: 6\n",
            "Insira a nota da A2: 9\n",
            "Insira a nota da P1: 1.2\n",
            "Insira a nota da P2: 7\n",
            "media= 6.04\n",
            "PASSEI NESSA MERDA!\n"
          ]
        }
      ],
      "source": [
        "print('Média do aluno')\n",
        "#Números decimais devem possuir ponto \".\" no lugar da vírgula\n",
        "a1= float(input('Insira a nota da A1: ')) \n",
        "a2= float(input('Insira a nota da A2: '))\n",
        "p1= float(input('Insira a nota da P1: '))\n",
        "p2= float(input('Insira a nota da P2: '))\n",
        "\n",
        "media= (a1+a2+p1+(p2*2))/5\n",
        "print('media=', media)\n",
        "\n",
        "if media >=6: \n",
        "  print('PASSEI NESSA MERDA!')\n",
        "else: \n",
        "  print('DP, choro, grito e depressão')\n"
      ]
    }
  ]
}